{
 "cells": [
  {
   "cell_type": "code",
   "execution_count": 1,
   "metadata": {},
   "outputs": [],
   "source": [
    "import numpy as np\n",
    "import pandas as pd \n",
    "\n",
    "import time\n",
    "import re"
   ]
  },
  {
   "cell_type": "code",
   "execution_count": 2,
   "metadata": {},
   "outputs": [],
   "source": [
    "sheets = pd.ExcelFile(\"./mena1.xlsx\").sheet_names\n",
    "countries = [re.match(r\"^[a-zA-Z]+$\", i).string for i in\n",
    "             sheets if re.match(r\"^[a-zA-Z]+$\", i)]"
   ]
  },
  {
   "cell_type": "code",
   "execution_count": 3,
   "metadata": {},
   "outputs": [
    {
     "name": "stdout",
     "output_type": "stream",
     "text": [
      "Morocco\n",
      "MA0000012205 2013 invalid value encountered in double_scalars\n",
      "Tunisia\n",
      "Israel\n",
      "IL0011398646 2016 divide by zero encountered in double_scalars\n"
     ]
    },
    {
     "name": "stderr",
     "output_type": "stream",
     "text": [
      "C:\\Users\\samir\\AppData\\Roaming\\Python\\Python38\\site-packages\\pandas\\core\\internals\\blocks.py:352: RuntimeWarning: divide by zero encountered in log\n",
      "  result = func(self.values, **kwargs)\n"
     ]
    },
    {
     "name": "stdout",
     "output_type": "stream",
     "text": [
      "IL0010837164 2022 invalid value encountered in double_scalars\n"
     ]
    },
    {
     "name": "stderr",
     "output_type": "stream",
     "text": [
      "C:\\Users\\samir\\AppData\\Roaming\\Python\\Python38\\site-packages\\pandas\\core\\internals\\blocks.py:352: RuntimeWarning: divide by zero encountered in log\n",
      "  result = func(self.values, **kwargs)\n",
      "C:\\Users\\samir\\AppData\\Roaming\\Python\\Python38\\site-packages\\pandas\\core\\internals\\blocks.py:352: RuntimeWarning: divide by zero encountered in log\n",
      "  result = func(self.values, **kwargs)\n",
      "C:\\Users\\samir\\AppData\\Roaming\\Python\\Python38\\site-packages\\pandas\\core\\internals\\blocks.py:352: RuntimeWarning: divide by zero encountered in log\n",
      "  result = func(self.values, **kwargs)\n"
     ]
    },
    {
     "name": "stdout",
     "output_type": "stream",
     "text": [
      "IL0010935588 2022 invalid value encountered in double_scalars\n",
      "Egypt\n",
      "EGS70P91C010(P) 2012 divide by zero encountered in log\n",
      "Bahrain\n",
      "Iraq\n",
      "Kuwait\n",
      "Lebanon\n",
      "Oman\n",
      "Qatar\n",
      "QA000M2522L9(P) 2018 divide by zero encountered in double_scalars\n",
      "Saudi\n",
      "SA135G51UI10(P) 2012 divide by zero encountered in double_scalars\n",
      "SA15DGU21117(P) 2021 divide by zero encountered in double_scalars\n",
      "SA15LGLI0N19(P) 2022 divide by zero encountered in log\n",
      "SA15LGC4L8H3(P) 2022 divide by zero encountered in double_scalars\n",
      "Syria\n",
      "UAE\n"
     ]
    },
    {
     "name": "stderr",
     "output_type": "stream",
     "text": [
      "C:\\Users\\samir\\AppData\\Roaming\\Python\\Python38\\site-packages\\pandas\\core\\internals\\blocks.py:352: RuntimeWarning: divide by zero encountered in log\n",
      "  result = func(self.values, **kwargs)\n"
     ]
    }
   ],
   "source": [
    "a = list()\n",
    "for country in countries:\n",
    "    print(country)\n",
    "    %run ./regressions.ipynb\n",
    "    a.append(panel_dat)"
   ]
  },
  {
   "cell_type": "code",
   "execution_count": 4,
   "metadata": {},
   "outputs": [],
   "source": [
    "ab = pd.concat(a, axis = 0)"
   ]
  },
  {
   "cell_type": "code",
   "execution_count": 5,
   "metadata": {},
   "outputs": [
    {
     "data": {
      "text/html": [
       "<div>\n",
       "<style scoped>\n",
       "    .dataframe tbody tr th:only-of-type {\n",
       "        vertical-align: middle;\n",
       "    }\n",
       "\n",
       "    .dataframe tbody tr th {\n",
       "        vertical-align: top;\n",
       "    }\n",
       "\n",
       "    .dataframe thead th {\n",
       "        text-align: right;\n",
       "    }\n",
       "</style>\n",
       "<table border=\"1\" class=\"dataframe\">\n",
       "  <thead>\n",
       "    <tr style=\"text-align: right;\">\n",
       "      <th></th>\n",
       "      <th></th>\n",
       "      <th>ncskewjt</th>\n",
       "      <th>duvoljt</th>\n",
       "      <th>var</th>\n",
       "      <th>shortfall</th>\n",
       "      <th>lpsd</th>\n",
       "      <th>counts</th>\n",
       "      <th>country</th>\n",
       "    </tr>\n",
       "    <tr>\n",
       "      <th>ISIN</th>\n",
       "      <th>Year</th>\n",
       "      <th></th>\n",
       "      <th></th>\n",
       "      <th></th>\n",
       "      <th></th>\n",
       "      <th></th>\n",
       "      <th></th>\n",
       "      <th></th>\n",
       "    </tr>\n",
       "  </thead>\n",
       "  <tbody>\n",
       "    <tr>\n",
       "      <th>MA0000010415</th>\n",
       "      <th>2010</th>\n",
       "      <td>-4.722482</td>\n",
       "      <td>-3.060654</td>\n",
       "      <td>-0.014653</td>\n",
       "      <td>-0.041102</td>\n",
       "      <td>0.013402</td>\n",
       "      <td>6</td>\n",
       "      <td>Morocco</td>\n",
       "    </tr>\n",
       "    <tr>\n",
       "      <th>MA0000010993</th>\n",
       "      <th>2010</th>\n",
       "      <td>-0.474105</td>\n",
       "      <td>-0.528459</td>\n",
       "      <td>-0.007196</td>\n",
       "      <td>-0.040875</td>\n",
       "      <td>0.014836</td>\n",
       "      <td>8</td>\n",
       "      <td>Morocco</td>\n",
       "    </tr>\n",
       "    <tr>\n",
       "      <th>MA0000010571</th>\n",
       "      <th>2010</th>\n",
       "      <td>1.559545</td>\n",
       "      <td>0.474025</td>\n",
       "      <td>-0.042549</td>\n",
       "      <td>-0.062757</td>\n",
       "      <td>0.020807</td>\n",
       "      <td>13</td>\n",
       "      <td>Morocco</td>\n",
       "    </tr>\n",
       "    <tr>\n",
       "      <th>MA0000010019</th>\n",
       "      <th>2010</th>\n",
       "      <td>1.064971</td>\n",
       "      <td>0.651730</td>\n",
       "      <td>-0.024755</td>\n",
       "      <td>-0.042572</td>\n",
       "      <td>0.012695</td>\n",
       "      <td>10</td>\n",
       "      <td>Morocco</td>\n",
       "    </tr>\n",
       "    <tr>\n",
       "      <th>MA0000012593</th>\n",
       "      <th>2010</th>\n",
       "      <td>10.785185</td>\n",
       "      <td>2.724156</td>\n",
       "      <td>-0.025169</td>\n",
       "      <td>-0.068667</td>\n",
       "      <td>0.038885</td>\n",
       "      <td>2</td>\n",
       "      <td>Morocco</td>\n",
       "    </tr>\n",
       "    <tr>\n",
       "      <th>...</th>\n",
       "      <th>...</th>\n",
       "      <td>...</td>\n",
       "      <td>...</td>\n",
       "      <td>...</td>\n",
       "      <td>...</td>\n",
       "      <td>...</td>\n",
       "      <td>...</td>\n",
       "      <td>...</td>\n",
       "    </tr>\n",
       "    <tr>\n",
       "      <th>AEE01119B224(P)</th>\n",
       "      <th>2022</th>\n",
       "      <td>-0.078676</td>\n",
       "      <td>0.311763</td>\n",
       "      <td>-0.020567</td>\n",
       "      <td>-0.027388</td>\n",
       "      <td>0.008659</td>\n",
       "      <td>1</td>\n",
       "      <td>UAE</td>\n",
       "    </tr>\n",
       "    <tr>\n",
       "      <th>BMG236541097(P)</th>\n",
       "      <th>2022</th>\n",
       "      <td>-0.414731</td>\n",
       "      <td>-0.029596</td>\n",
       "      <td>-0.035978</td>\n",
       "      <td>-0.041731</td>\n",
       "      <td>0.012304</td>\n",
       "      <td>1</td>\n",
       "      <td>UAE</td>\n",
       "    </tr>\n",
       "    <tr>\n",
       "      <th>AEE01122B228(P)</th>\n",
       "      <th>2022</th>\n",
       "      <td>-1.198999</td>\n",
       "      <td>-1.511843</td>\n",
       "      <td>-0.049768</td>\n",
       "      <td>-0.073671</td>\n",
       "      <td>0.021294</td>\n",
       "      <td>1</td>\n",
       "      <td>UAE</td>\n",
       "    </tr>\n",
       "    <tr>\n",
       "      <th>AEE01135A222(P)</th>\n",
       "      <th>2022</th>\n",
       "      <td>1.779766</td>\n",
       "      <td>2.478490</td>\n",
       "      <td>-0.018346</td>\n",
       "      <td>-0.018925</td>\n",
       "      <td>0.006193</td>\n",
       "      <td>0</td>\n",
       "      <td>UAE</td>\n",
       "    </tr>\n",
       "    <tr>\n",
       "      <th>AEE01136T220(P)</th>\n",
       "      <th>2022</th>\n",
       "      <td>0.713930</td>\n",
       "      <td>0.800527</td>\n",
       "      <td>-0.009896</td>\n",
       "      <td>-0.010659</td>\n",
       "      <td>0.003595</td>\n",
       "      <td>0</td>\n",
       "      <td>UAE</td>\n",
       "    </tr>\n",
       "  </tbody>\n",
       "</table>\n",
       "<p>13120 rows × 7 columns</p>\n",
       "</div>"
      ],
      "text/plain": [
       "                       ncskewjt   duvoljt       var  shortfall      lpsd  \\\n",
       "ISIN            Year                                                       \n",
       "MA0000010415    2010  -4.722482 -3.060654 -0.014653  -0.041102  0.013402   \n",
       "MA0000010993    2010  -0.474105 -0.528459 -0.007196  -0.040875  0.014836   \n",
       "MA0000010571    2010   1.559545  0.474025 -0.042549  -0.062757  0.020807   \n",
       "MA0000010019    2010   1.064971  0.651730 -0.024755  -0.042572  0.012695   \n",
       "MA0000012593    2010  10.785185  2.724156 -0.025169  -0.068667  0.038885   \n",
       "...                         ...       ...       ...        ...       ...   \n",
       "AEE01119B224(P) 2022  -0.078676  0.311763 -0.020567  -0.027388  0.008659   \n",
       "BMG236541097(P) 2022  -0.414731 -0.029596 -0.035978  -0.041731  0.012304   \n",
       "AEE01122B228(P) 2022  -1.198999 -1.511843 -0.049768  -0.073671  0.021294   \n",
       "AEE01135A222(P) 2022   1.779766  2.478490 -0.018346  -0.018925  0.006193   \n",
       "AEE01136T220(P) 2022   0.713930  0.800527 -0.009896  -0.010659  0.003595   \n",
       "\n",
       "                      counts  country  \n",
       "ISIN            Year                   \n",
       "MA0000010415    2010       6  Morocco  \n",
       "MA0000010993    2010       8  Morocco  \n",
       "MA0000010571    2010      13  Morocco  \n",
       "MA0000010019    2010      10  Morocco  \n",
       "MA0000012593    2010       2  Morocco  \n",
       "...                      ...      ...  \n",
       "AEE01119B224(P) 2022       1      UAE  \n",
       "BMG236541097(P) 2022       1      UAE  \n",
       "AEE01122B228(P) 2022       1      UAE  \n",
       "AEE01135A222(P) 2022       0      UAE  \n",
       "AEE01136T220(P) 2022       0      UAE  \n",
       "\n",
       "[13120 rows x 7 columns]"
      ]
     },
     "execution_count": 5,
     "metadata": {},
     "output_type": "execute_result"
    }
   ],
   "source": [
    "ab"
   ]
  },
  {
   "cell_type": "code",
   "execution_count": 7,
   "metadata": {},
   "outputs": [
    {
     "name": "stderr",
     "output_type": "stream",
     "text": [
      "C:\\Users\\samir\\AppData\\Local\\Temp\\ipykernel_8040\\2912239616.py:1: UserWarning: Pandas requires version '1.4.3' or newer of 'xlsxwriter' (version '1.3.7' currently installed).\n",
      "  ab.to_excel(\"daily.xlsx\")\n"
     ]
    }
   ],
   "source": [
    "ab.to_excel(\"weekly.xlsx\")"
   ]
  }
 ],
 "metadata": {
  "kernelspec": {
   "display_name": "base",
   "language": "python",
   "name": "python3"
  },
  "language_info": {
   "codemirror_mode": {
    "name": "ipython",
    "version": 3
   },
   "file_extension": ".py",
   "mimetype": "text/x-python",
   "name": "python",
   "nbconvert_exporter": "python",
   "pygments_lexer": "ipython3",
   "version": "3.8.5"
  }
 },
 "nbformat": 4,
 "nbformat_minor": 2
}
